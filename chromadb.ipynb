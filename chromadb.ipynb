{
 "cells": [
  {
   "cell_type": "code",
   "execution_count": 1,
   "id": "cec1cc5e",
   "metadata": {},
   "outputs": [
    {
     "name": "stdout",
     "output_type": "stream",
     "text": [
      "Requirement already satisfied: chromadb in c:\\users\\abinay rachakonda\\anaconda\\lib\\site-packages (0.4.24)\n",
      "Requirement already satisfied: opentelemetry-api>=1.2.0 in c:\\users\\abinay rachakonda\\anaconda\\lib\\site-packages (from chromadb) (1.24.0)\n",
      "Requirement already satisfied: requests>=2.28 in c:\\users\\abinay rachakonda\\anaconda\\lib\\site-packages (from chromadb) (2.28.1)\n",
      "Requirement already satisfied: opentelemetry-exporter-otlp-proto-grpc>=1.2.0 in c:\\users\\abinay rachakonda\\anaconda\\lib\\site-packages (from chromadb) (1.24.0)\n",
      "Requirement already satisfied: fastapi>=0.95.2 in c:\\users\\abinay rachakonda\\anaconda\\lib\\site-packages (from chromadb) (0.110.2)\n",
      "Requirement already satisfied: typer>=0.9.0 in c:\\users\\abinay rachakonda\\anaconda\\lib\\site-packages (from chromadb) (0.12.3)\n",
      "Requirement already satisfied: numpy>=1.22.5 in c:\\users\\abinay rachakonda\\anaconda\\lib\\site-packages (from chromadb) (1.23.5)\n",
      "Requirement already satisfied: tokenizers>=0.13.2 in c:\\users\\abinay rachakonda\\anaconda\\lib\\site-packages (from chromadb) (0.19.1)\n",
      "Requirement already satisfied: orjson>=3.9.12 in c:\\users\\abinay rachakonda\\anaconda\\lib\\site-packages (from chromadb) (3.10.1)\n",
      "Requirement already satisfied: opentelemetry-sdk>=1.2.0 in c:\\users\\abinay rachakonda\\anaconda\\lib\\site-packages (from chromadb) (1.24.0)\n",
      "Requirement already satisfied: bcrypt>=4.0.1 in c:\\users\\abinay rachakonda\\anaconda\\lib\\site-packages (from chromadb) (4.1.2)\n",
      "Requirement already satisfied: typing-extensions>=4.5.0 in c:\\users\\abinay rachakonda\\anaconda\\lib\\site-packages (from chromadb) (4.12.2)\n",
      "Requirement already satisfied: pydantic>=1.9 in c:\\users\\abinay rachakonda\\anaconda\\lib\\site-packages (from chromadb) (2.10.1)\n",
      "Requirement already satisfied: onnxruntime>=1.14.1 in c:\\users\\abinay rachakonda\\anaconda\\lib\\site-packages (from chromadb) (1.17.3)\n",
      "Requirement already satisfied: opentelemetry-instrumentation-fastapi>=0.41b0 in c:\\users\\abinay rachakonda\\anaconda\\lib\\site-packages (from chromadb) (0.45b0)\n",
      "Requirement already satisfied: uvicorn[standard]>=0.18.3 in c:\\users\\abinay rachakonda\\anaconda\\lib\\site-packages (from chromadb) (0.29.0)\n",
      "Requirement already satisfied: PyYAML>=6.0.0 in c:\\users\\abinay rachakonda\\anaconda\\lib\\site-packages (from chromadb) (6.0)\n",
      "Requirement already satisfied: build>=1.0.3 in c:\\users\\abinay rachakonda\\anaconda\\lib\\site-packages (from chromadb) (1.2.1)\n",
      "Requirement already satisfied: importlib-resources in c:\\users\\abinay rachakonda\\anaconda\\lib\\site-packages (from chromadb) (6.4.0)\n",
      "Requirement already satisfied: chroma-hnswlib==0.7.3 in c:\\users\\abinay rachakonda\\anaconda\\lib\\site-packages (from chromadb) (0.7.3)\n",
      "Requirement already satisfied: kubernetes>=28.1.0 in c:\\users\\abinay rachakonda\\anaconda\\lib\\site-packages (from chromadb) (29.0.0)\n",
      "Requirement already satisfied: pypika>=0.48.9 in c:\\users\\abinay rachakonda\\anaconda\\lib\\site-packages (from chromadb) (0.48.9)\n",
      "Requirement already satisfied: tenacity>=8.2.3 in c:\\users\\abinay rachakonda\\anaconda\\lib\\site-packages (from chromadb) (8.2.3)\n",
      "Requirement already satisfied: posthog>=2.4.0 in c:\\users\\abinay rachakonda\\anaconda\\lib\\site-packages (from chromadb) (3.5.0)\n",
      "Requirement already satisfied: overrides>=7.3.1 in c:\\users\\abinay rachakonda\\anaconda\\lib\\site-packages (from chromadb) (7.7.0)\n",
      "Requirement already satisfied: mmh3>=4.0.1 in c:\\users\\abinay rachakonda\\anaconda\\lib\\site-packages (from chromadb) (4.1.0)\n",
      "Requirement already satisfied: pulsar-client>=3.1.0 in c:\\users\\abinay rachakonda\\anaconda\\lib\\site-packages (from chromadb) (3.5.0)\n",
      "Requirement already satisfied: tqdm>=4.65.0 in c:\\users\\abinay rachakonda\\anaconda\\lib\\site-packages (from chromadb) (4.66.2)\n",
      "Requirement already satisfied: grpcio>=1.58.0 in c:\\users\\abinay rachakonda\\anaconda\\lib\\site-packages (from chromadb) (1.59.3)\n",
      "Requirement already satisfied: colorama in c:\\users\\abinay rachakonda\\anaconda\\lib\\site-packages (from build>=1.0.3->chromadb) (0.4.6)\n",
      "Requirement already satisfied: pyproject_hooks in c:\\users\\abinay rachakonda\\anaconda\\lib\\site-packages (from build>=1.0.3->chromadb) (1.0.0)\n",
      "Requirement already satisfied: tomli>=1.1.0 in c:\\users\\abinay rachakonda\\anaconda\\lib\\site-packages (from build>=1.0.3->chromadb) (2.0.1)\n",
      "Requirement already satisfied: packaging>=19.1 in c:\\users\\abinay rachakonda\\anaconda\\lib\\site-packages (from build>=1.0.3->chromadb) (23.2)\n",
      "Requirement already satisfied: starlette<0.38.0,>=0.37.2 in c:\\users\\abinay rachakonda\\anaconda\\lib\\site-packages (from fastapi>=0.95.2->chromadb) (0.37.2)\n",
      "Requirement already satisfied: six>=1.9.0 in c:\\users\\abinay rachakonda\\anaconda\\lib\\site-packages (from kubernetes>=28.1.0->chromadb) (1.16.0)\n",
      "Requirement already satisfied: urllib3>=1.24.2 in c:\\users\\abinay rachakonda\\anaconda\\lib\\site-packages (from kubernetes>=28.1.0->chromadb) (1.26.14)\n",
      "Requirement already satisfied: oauthlib>=3.2.2 in c:\\users\\abinay rachakonda\\anaconda\\lib\\site-packages (from kubernetes>=28.1.0->chromadb) (3.2.2)\n",
      "Requirement already satisfied: websocket-client!=0.40.0,!=0.41.*,!=0.42.*,>=0.32.0 in c:\\users\\abinay rachakonda\\anaconda\\lib\\site-packages (from kubernetes>=28.1.0->chromadb) (0.58.0)\n",
      "Requirement already satisfied: requests-oauthlib in c:\\users\\abinay rachakonda\\anaconda\\lib\\site-packages (from kubernetes>=28.1.0->chromadb) (1.3.1)\n",
      "Requirement already satisfied: google-auth>=1.0.1 in c:\\users\\abinay rachakonda\\anaconda\\lib\\site-packages (from kubernetes>=28.1.0->chromadb) (2.24.0)\n",
      "Requirement already satisfied: python-dateutil>=2.5.3 in c:\\users\\abinay rachakonda\\anaconda\\lib\\site-packages (from kubernetes>=28.1.0->chromadb) (2.8.2)\n",
      "Requirement already satisfied: certifi>=14.05.14 in c:\\users\\abinay rachakonda\\anaconda\\lib\\site-packages (from kubernetes>=28.1.0->chromadb) (2023.11.17)\n",
      "Requirement already satisfied: flatbuffers in c:\\users\\abinay rachakonda\\anaconda\\lib\\site-packages (from onnxruntime>=1.14.1->chromadb) (23.5.26)\n",
      "Requirement already satisfied: sympy in c:\\users\\abinay rachakonda\\anaconda\\lib\\site-packages (from onnxruntime>=1.14.1->chromadb) (1.11.1)\n",
      "Requirement already satisfied: protobuf in c:\\users\\abinay rachakonda\\anaconda\\lib\\site-packages (from onnxruntime>=1.14.1->chromadb) (4.23.3)\n",
      "Requirement already satisfied: coloredlogs in c:\\users\\abinay rachakonda\\anaconda\\lib\\site-packages (from onnxruntime>=1.14.1->chromadb) (15.0.1)\n",
      "Requirement already satisfied: deprecated>=1.2.6 in c:\\users\\abinay rachakonda\\anaconda\\lib\\site-packages (from opentelemetry-api>=1.2.0->chromadb) (1.2.14)\n",
      "Requirement already satisfied: importlib-metadata<=7.0,>=6.0 in c:\\users\\abinay rachakonda\\anaconda\\lib\\site-packages (from opentelemetry-api>=1.2.0->chromadb) (7.0.0)\n",
      "Requirement already satisfied: opentelemetry-proto==1.24.0 in c:\\users\\abinay rachakonda\\anaconda\\lib\\site-packages (from opentelemetry-exporter-otlp-proto-grpc>=1.2.0->chromadb) (1.24.0)\n",
      "Requirement already satisfied: opentelemetry-exporter-otlp-proto-common==1.24.0 in c:\\users\\abinay rachakonda\\anaconda\\lib\\site-packages (from opentelemetry-exporter-otlp-proto-grpc>=1.2.0->chromadb) (1.24.0)\n",
      "Requirement already satisfied: googleapis-common-protos~=1.52 in c:\\users\\abinay rachakonda\\anaconda\\lib\\site-packages (from opentelemetry-exporter-otlp-proto-grpc>=1.2.0->chromadb) (1.63.0)\n",
      "Requirement already satisfied: opentelemetry-instrumentation-asgi==0.45b0 in c:\\users\\abinay rachakonda\\anaconda\\lib\\site-packages (from opentelemetry-instrumentation-fastapi>=0.41b0->chromadb) (0.45b0)\n",
      "Requirement already satisfied: opentelemetry-util-http==0.45b0 in c:\\users\\abinay rachakonda\\anaconda\\lib\\site-packages (from opentelemetry-instrumentation-fastapi>=0.41b0->chromadb) (0.45b0)\n",
      "Requirement already satisfied: opentelemetry-semantic-conventions==0.45b0 in c:\\users\\abinay rachakonda\\anaconda\\lib\\site-packages (from opentelemetry-instrumentation-fastapi>=0.41b0->chromadb) (0.45b0)\n",
      "Requirement already satisfied: opentelemetry-instrumentation==0.45b0 in c:\\users\\abinay rachakonda\\anaconda\\lib\\site-packages (from opentelemetry-instrumentation-fastapi>=0.41b0->chromadb) (0.45b0)\n",
      "Requirement already satisfied: setuptools>=16.0 in c:\\users\\abinay rachakonda\\anaconda\\lib\\site-packages (from opentelemetry-instrumentation==0.45b0->opentelemetry-instrumentation-fastapi>=0.41b0->chromadb) (65.6.3)\n",
      "Requirement already satisfied: wrapt<2.0.0,>=1.0.0 in c:\\users\\abinay rachakonda\\anaconda\\lib\\site-packages (from opentelemetry-instrumentation==0.45b0->opentelemetry-instrumentation-fastapi>=0.41b0->chromadb) (1.14.1)\n",
      "Requirement already satisfied: asgiref~=3.0 in c:\\users\\abinay rachakonda\\anaconda\\lib\\site-packages (from opentelemetry-instrumentation-asgi==0.45b0->opentelemetry-instrumentation-fastapi>=0.41b0->chromadb) (3.8.1)\n",
      "Requirement already satisfied: backoff>=1.10.0 in c:\\users\\abinay rachakonda\\anaconda\\lib\\site-packages (from posthog>=2.4.0->chromadb) (2.2.1)\n",
      "Requirement already satisfied: monotonic>=1.5 in c:\\users\\abinay rachakonda\\anaconda\\lib\\site-packages (from posthog>=2.4.0->chromadb) (1.6)\n",
      "Requirement already satisfied: pydantic-core==2.27.1 in c:\\users\\abinay rachakonda\\anaconda\\lib\\site-packages (from pydantic>=1.9->chromadb) (2.27.1)\n",
      "Requirement already satisfied: annotated-types>=0.6.0 in c:\\users\\abinay rachakonda\\anaconda\\lib\\site-packages (from pydantic>=1.9->chromadb) (0.7.0)\n",
      "Requirement already satisfied: idna<4,>=2.5 in c:\\users\\abinay rachakonda\\anaconda\\lib\\site-packages (from requests>=2.28->chromadb) (3.4)\n",
      "Requirement already satisfied: charset-normalizer<3,>=2 in c:\\users\\abinay rachakonda\\anaconda\\lib\\site-packages (from requests>=2.28->chromadb) (2.0.4)\n",
      "Requirement already satisfied: huggingface-hub<1.0,>=0.16.4 in c:\\users\\abinay rachakonda\\anaconda\\lib\\site-packages (from tokenizers>=0.13.2->chromadb) (0.23.4)\n",
      "Requirement already satisfied: rich>=10.11.0 in c:\\users\\abinay rachakonda\\anaconda\\lib\\site-packages (from typer>=0.9.0->chromadb) (13.7.1)\n",
      "Requirement already satisfied: shellingham>=1.3.0 in c:\\users\\abinay rachakonda\\anaconda\\lib\\site-packages (from typer>=0.9.0->chromadb) (1.5.4)\n",
      "Requirement already satisfied: click>=8.0.0 in c:\\users\\abinay rachakonda\\anaconda\\lib\\site-packages (from typer>=0.9.0->chromadb) (8.0.4)\n",
      "Requirement already satisfied: h11>=0.8 in c:\\users\\abinay rachakonda\\anaconda\\lib\\site-packages (from uvicorn[standard]>=0.18.3->chromadb) (0.14.0)\n",
      "Requirement already satisfied: websockets>=10.4 in c:\\users\\abinay rachakonda\\anaconda\\lib\\site-packages (from uvicorn[standard]>=0.18.3->chromadb) (10.4)\n",
      "Requirement already satisfied: watchfiles>=0.13 in c:\\users\\abinay rachakonda\\anaconda\\lib\\site-packages (from uvicorn[standard]>=0.18.3->chromadb) (0.21.0)\n",
      "Requirement already satisfied: httptools>=0.5.0 in c:\\users\\abinay rachakonda\\anaconda\\lib\\site-packages (from uvicorn[standard]>=0.18.3->chromadb) (0.6.1)\n",
      "Requirement already satisfied: python-dotenv>=0.13 in c:\\users\\abinay rachakonda\\anaconda\\lib\\site-packages (from uvicorn[standard]>=0.18.3->chromadb) (1.0.1)\n",
      "Requirement already satisfied: pyasn1-modules>=0.2.1 in c:\\users\\abinay rachakonda\\anaconda\\lib\\site-packages (from google-auth>=1.0.1->kubernetes>=28.1.0->chromadb) (0.2.8)\n",
      "Requirement already satisfied: cachetools<6.0,>=2.0.0 in c:\\users\\abinay rachakonda\\anaconda\\lib\\site-packages (from google-auth>=1.0.1->kubernetes>=28.1.0->chromadb) (5.3.2)\n",
      "Requirement already satisfied: rsa<5,>=3.1.4 in c:\\users\\abinay rachakonda\\anaconda\\lib\\site-packages (from google-auth>=1.0.1->kubernetes>=28.1.0->chromadb) (4.7.2)\n",
      "Requirement already satisfied: fsspec>=2023.5.0 in c:\\users\\abinay rachakonda\\anaconda\\lib\\site-packages (from huggingface-hub<1.0,>=0.16.4->tokenizers>=0.13.2->chromadb) (2024.3.1)\n",
      "Requirement already satisfied: filelock in c:\\users\\abinay rachakonda\\anaconda\\lib\\site-packages (from huggingface-hub<1.0,>=0.16.4->tokenizers>=0.13.2->chromadb) (3.9.0)\n",
      "Requirement already satisfied: zipp>=0.5 in c:\\users\\abinay rachakonda\\anaconda\\lib\\site-packages (from importlib-metadata<=7.0,>=6.0->opentelemetry-api>=1.2.0->chromadb) (3.11.0)\n",
      "Requirement already satisfied: pygments<3.0.0,>=2.13.0 in c:\\users\\abinay rachakonda\\anaconda\\lib\\site-packages (from rich>=10.11.0->typer>=0.9.0->chromadb) (2.17.2)\n",
      "Requirement already satisfied: markdown-it-py>=2.2.0 in c:\\users\\abinay rachakonda\\anaconda\\lib\\site-packages (from rich>=10.11.0->typer>=0.9.0->chromadb) (3.0.0)\n",
      "Requirement already satisfied: anyio<5,>=3.4.0 in c:\\users\\abinay rachakonda\\anaconda\\lib\\site-packages (from starlette<0.38.0,>=0.37.2->fastapi>=0.95.2->chromadb) (3.5.0)\n",
      "Requirement already satisfied: humanfriendly>=9.1 in c:\\users\\abinay rachakonda\\anaconda\\lib\\site-packages (from coloredlogs->onnxruntime>=1.14.1->chromadb) (10.0)\n",
      "Requirement already satisfied: mpmath>=0.19 in c:\\users\\abinay rachakonda\\anaconda\\lib\\site-packages (from sympy->onnxruntime>=1.14.1->chromadb) (1.2.1)\n",
      "Requirement already satisfied: sniffio>=1.1 in c:\\users\\abinay rachakonda\\anaconda\\lib\\site-packages (from anyio<5,>=3.4.0->starlette<0.38.0,>=0.37.2->fastapi>=0.95.2->chromadb) (1.3.1)\n",
      "Requirement already satisfied: pyreadline3 in c:\\users\\abinay rachakonda\\anaconda\\lib\\site-packages (from humanfriendly>=9.1->coloredlogs->onnxruntime>=1.14.1->chromadb) (3.4.1)\n",
      "Requirement already satisfied: mdurl~=0.1 in c:\\users\\abinay rachakonda\\anaconda\\lib\\site-packages (from markdown-it-py>=2.2.0->rich>=10.11.0->typer>=0.9.0->chromadb) (0.1.2)\n",
      "Requirement already satisfied: pyasn1<0.5.0,>=0.4.6 in c:\\users\\abinay rachakonda\\anaconda\\lib\\site-packages (from pyasn1-modules>=0.2.1->google-auth>=1.0.1->kubernetes>=28.1.0->chromadb) (0.4.8)\n",
      "Note: you may need to restart the kernel to use updated packages.\n"
     ]
    },
    {
     "name": "stderr",
     "output_type": "stream",
     "text": [
      "WARNING: Ignoring invalid distribution -ensorflow-intel (c:\\users\\abinay rachakonda\\anaconda\\lib\\site-packages)\n",
      "WARNING: Ignoring invalid distribution -atplotlib (c:\\users\\abinay rachakonda\\anaconda\\lib\\site-packages)\n",
      "WARNING: Ignoring invalid distribution -ensorflow-intel (c:\\users\\abinay rachakonda\\anaconda\\lib\\site-packages)\n",
      "WARNING: Ignoring invalid distribution -atplotlib (c:\\users\\abinay rachakonda\\anaconda\\lib\\site-packages)\n",
      "WARNING: Ignoring invalid distribution -ensorflow-intel (c:\\users\\abinay rachakonda\\anaconda\\lib\\site-packages)\n",
      "WARNING: Ignoring invalid distribution -atplotlib (c:\\users\\abinay rachakonda\\anaconda\\lib\\site-packages)\n",
      "WARNING: Ignoring invalid distribution -ensorflow-intel (c:\\users\\abinay rachakonda\\anaconda\\lib\\site-packages)\n",
      "WARNING: Ignoring invalid distribution -atplotlib (c:\\users\\abinay rachakonda\\anaconda\\lib\\site-packages)\n",
      "WARNING: Ignoring invalid distribution -ensorflow-intel (c:\\users\\abinay rachakonda\\anaconda\\lib\\site-packages)\n",
      "WARNING: Ignoring invalid distribution -atplotlib (c:\\users\\abinay rachakonda\\anaconda\\lib\\site-packages)\n",
      "WARNING: Ignoring invalid distribution -ensorflow-intel (c:\\users\\abinay rachakonda\\anaconda\\lib\\site-packages)\n",
      "WARNING: Ignoring invalid distribution -atplotlib (c:\\users\\abinay rachakonda\\anaconda\\lib\\site-packages)\n"
     ]
    }
   ],
   "source": [
    "pip install chromadb"
   ]
  },
  {
   "cell_type": "code",
   "execution_count": 5,
   "id": "bd5e37a8",
   "metadata": {},
   "outputs": [],
   "source": [
    "import chromadb\n",
    "client = chromadb.Client()\n",
    "collection = client.create_collection(\"my_collection\")"
   ]
  },
  {
   "cell_type": "code",
   "execution_count": 8,
   "id": "75c39077",
   "metadata": {},
   "outputs": [
    {
     "name": "stderr",
     "output_type": "stream",
     "text": [
      "C:\\Users\\Abinay Rachakonda\\.cache\\chroma\\onnx_models\\all-MiniLM-L6-v2\\onnx.tar.gz: 100%|█| 79.3M/79.3M [02:01<00:00, 68\n"
     ]
    }
   ],
   "source": [
    "collection.add(documents=[\"This document is New York\", \"This document is Delhi\"], ids=[\"id1\", \"id2\"])"
   ]
  },
  {
   "cell_type": "code",
   "execution_count": 10,
   "id": "3eaf3257",
   "metadata": {},
   "outputs": [
    {
     "data": {
      "text/plain": [
       "{'ids': ['id1'],\n",
       " 'embeddings': None,\n",
       " 'metadatas': [None],\n",
       " 'documents': ['This document is New York'],\n",
       " 'uris': None,\n",
       " 'data': None}"
      ]
     },
     "execution_count": 10,
     "metadata": {},
     "output_type": "execute_result"
    }
   ],
   "source": [
    "all_docs = collection.get(ids=['id1'])\n",
    "all_docs"
   ]
  },
  {
   "cell_type": "code",
   "execution_count": 13,
   "id": "0612653f",
   "metadata": {},
   "outputs": [
    {
     "data": {
      "text/plain": [
       "{'ids': [['id2', 'id1']],\n",
       " 'distances': [[1.561838984489441, 1.7389330863952637]],\n",
       " 'metadatas': [[None, None]],\n",
       " 'embeddings': None,\n",
       " 'documents': [['This document is Delhi', 'This document is New York']],\n",
       " 'uris': None,\n",
       " 'data': None}"
      ]
     },
     "execution_count": 13,
     "metadata": {},
     "output_type": "execute_result"
    }
   ],
   "source": [
    "result = collection.query(query_texts=['query about chhole bhartle'],n_results=2)\n",
    "result"
   ]
  },
  {
   "cell_type": "code",
   "execution_count": 15,
   "id": "4ec6b6c2",
   "metadata": {},
   "outputs": [
    {
     "data": {
      "text/plain": [
       "{'ids': ['id2'],\n",
       " 'embeddings': None,\n",
       " 'metadatas': [None],\n",
       " 'documents': ['This document is Delhi'],\n",
       " 'uris': None,\n",
       " 'data': None}"
      ]
     },
     "execution_count": 15,
     "metadata": {},
     "output_type": "execute_result"
    }
   ],
   "source": [
    "collection.delete(ids=all_docs['ids'])\n",
    "collection.get()"
   ]
  },
  {
   "cell_type": "code",
   "execution_count": 16,
   "id": "a1f8ecc8",
   "metadata": {},
   "outputs": [
    {
     "name": "stderr",
     "output_type": "stream",
     "text": [
      "Insert of existing embedding ID: id2\n",
      "Add of existing embedding ID: id2\n"
     ]
    }
   ],
   "source": [
    "collection.add(documents=[\"This document is New York\", \"This document is Delhi\"], ids=[\"id1\", \"id2\"], metadatas=[\n",
    "        {\"url\": \"https://en.wikipedia.org/wiki/New_York_City\"},\n",
    "        {\"url\": \"https://en.wikipedia.org/wiki/New_Delhi\"}\n",
    "    ])"
   ]
  },
  {
   "cell_type": "code",
   "execution_count": 17,
   "id": "0aaa998f",
   "metadata": {},
   "outputs": [
    {
     "data": {
      "text/plain": [
       "{'ids': [['id2', 'id1']],\n",
       " 'distances': [[1.561838984489441, 1.7389330863952637]],\n",
       " 'metadatas': [[None, {'url': 'https://en.wikipedia.org/wiki/New_York_City'}]],\n",
       " 'embeddings': None,\n",
       " 'documents': [['This document is Delhi', 'This document is New York']],\n",
       " 'uris': None,\n",
       " 'data': None}"
      ]
     },
     "execution_count": 17,
     "metadata": {},
     "output_type": "execute_result"
    }
   ],
   "source": [
    "result = collection.query(query_texts=['query about chhole bhartle'],n_results=2)\n",
    "result"
   ]
  },
  {
   "cell_type": "code",
   "execution_count": 19,
   "id": "9c8d1a4a",
   "metadata": {},
   "outputs": [
    {
     "name": "stdout",
     "output_type": "stream",
     "text": [
      "Note: you may need to restart the kernel to use updated packages.\n"
     ]
    },
    {
     "name": "stderr",
     "output_type": "stream",
     "text": [
      "WARNING: Ignoring invalid distribution -ensorflow-intel (c:\\users\\abinay rachakonda\\anaconda\\lib\\site-packages)\n",
      "WARNING: Ignoring invalid distribution -atplotlib (c:\\users\\abinay rachakonda\\anaconda\\lib\\site-packages)\n",
      "WARNING: Ignoring invalid distribution -ensorflow-intel (c:\\users\\abinay rachakonda\\anaconda\\lib\\site-packages)\n",
      "WARNING: Ignoring invalid distribution -atplotlib (c:\\users\\abinay rachakonda\\anaconda\\lib\\site-packages)\n",
      "WARNING: Ignoring invalid distribution -ensorflow-intel (c:\\users\\abinay rachakonda\\anaconda\\lib\\site-packages)\n",
      "WARNING: Ignoring invalid distribution -atplotlib (c:\\users\\abinay rachakonda\\anaconda\\lib\\site-packages)\n",
      "    WARNING: Ignoring invalid distribution -ensorflow-intel (c:\\users\\abinay rachakonda\\anaconda\\lib\\site-packages)\n",
      "    WARNING: Ignoring invalid distribution -atplotlib (c:\\users\\abinay rachakonda\\anaconda\\lib\\site-packages)\n",
      "WARNING: Ignoring invalid distribution -ensorflow-intel (c:\\users\\abinay rachakonda\\anaconda\\lib\\site-packages)\n",
      "WARNING: Ignoring invalid distribution -atplotlib (c:\\users\\abinay rachakonda\\anaconda\\lib\\site-packages)\n",
      "WARNING: Ignoring invalid distribution -ensorflow-intel (c:\\users\\abinay rachakonda\\anaconda\\lib\\site-packages)\n",
      "WARNING: Ignoring invalid distribution -atplotlib (c:\\users\\abinay rachakonda\\anaconda\\lib\\site-packages)\n",
      "WARNING: Ignoring invalid distribution -ensorflow-intel (c:\\users\\abinay rachakonda\\anaconda\\lib\\site-packages)\n",
      "WARNING: Ignoring invalid distribution -atplotlib (c:\\users\\abinay rachakonda\\anaconda\\lib\\site-packages)\n",
      "WARNING: Ignoring invalid distribution -ensorflow-intel (c:\\users\\abinay rachakonda\\anaconda\\lib\\site-packages)\n",
      "WARNING: Ignoring invalid distribution -atplotlib (c:\\users\\abinay rachakonda\\anaconda\\lib\\site-packages)\n",
      "WARNING: Ignoring invalid distribution -ensorflow-intel (c:\\users\\abinay rachakonda\\anaconda\\lib\\site-packages)\n",
      "WARNING: Ignoring invalid distribution -atplotlib (c:\\users\\abinay rachakonda\\anaconda\\lib\\site-packages)\n",
      "WARNING: Ignoring invalid distribution -ensorflow-intel (c:\\users\\abinay rachakonda\\anaconda\\lib\\site-packages)\n",
      "WARNING: Ignoring invalid distribution -atplotlib (c:\\users\\abinay rachakonda\\anaconda\\lib\\site-packages)\n",
      "WARNING: Ignoring invalid distribution -ensorflow-intel (c:\\users\\abinay rachakonda\\anaconda\\lib\\site-packages)\n",
      "WARNING: Ignoring invalid distribution -atplotlib (c:\\users\\abinay rachakonda\\anaconda\\lib\\site-packages)\n",
      "WARNING: Ignoring invalid distribution -ensorflow-intel (c:\\users\\abinay rachakonda\\anaconda\\lib\\site-packages)\n",
      "WARNING: Ignoring invalid distribution -atplotlib (c:\\users\\abinay rachakonda\\anaconda\\lib\\site-packages)\n",
      "WARNING: Ignoring invalid distribution -ensorflow-intel (c:\\users\\abinay rachakonda\\anaconda\\lib\\site-packages)\n",
      "WARNING: Ignoring invalid distribution -atplotlib (c:\\users\\abinay rachakonda\\anaconda\\lib\\site-packages)\n",
      "WARNING: Ignoring invalid distribution -ensorflow-intel (c:\\users\\abinay rachakonda\\anaconda\\lib\\site-packages)\n",
      "WARNING: Ignoring invalid distribution -atplotlib (c:\\users\\abinay rachakonda\\anaconda\\lib\\site-packages)\n",
      "WARNING: Ignoring invalid distribution -ensorflow-intel (c:\\users\\abinay rachakonda\\anaconda\\lib\\site-packages)\n",
      "WARNING: Ignoring invalid distribution -atplotlib (c:\\users\\abinay rachakonda\\anaconda\\lib\\site-packages)\n",
      "WARNING: Ignoring invalid distribution -ensorflow-intel (c:\\users\\abinay rachakonda\\anaconda\\lib\\site-packages)\n",
      "WARNING: Ignoring invalid distribution -atplotlib (c:\\users\\abinay rachakonda\\anaconda\\lib\\site-packages)\n"
     ]
    }
   ],
   "source": [
    "%pip install -qU langchain_community beautifulsoup4"
   ]
  },
  {
   "cell_type": "code",
   "execution_count": 1,
   "id": "32b7fbe2",
   "metadata": {},
   "outputs": [
    {
     "name": "stderr",
     "output_type": "stream",
     "text": [
      "USER_AGENT environment variable not set, consider setting it to identify your requests.\n"
     ]
    }
   ],
   "source": [
    "from langchain_community.document_loaders import WebBaseLoader\n",
    "\n",
    "loader = WebBaseLoader(\"https://lifelancer.com/jobs/view/a96e5cdf6d48e45bf352270822f6796a\")"
   ]
  },
  {
   "cell_type": "code",
   "execution_count": 6,
   "id": "dcf4df6d",
   "metadata": {},
   "outputs": [
    {
     "name": "stdout",
     "output_type": "stream",
     "text": [
      "Scientific Writer - On-site Job at Sanofi | Lifelancer  menuFind JobsHireexpand_moreHire TalentHire AgenciesHire & PayHow It Worksexpand_moreTalentAgencyEmployersPricingexpand_moreTalentAgencyEmployersMoreexpand_moreVision & MissionBlogSign InSign UpBook a DemohomeHomeperson_searchHireexpand_moreHire & Payaccount_balance_walletHow It Worksexpand_moreTalentAgencyEmployerspaymentPricingexpand_moreTalentAgencyEmployersaccount_balance_walletMoreexpand_moreVision & MissionforumBlogloginSign Inperson_add_altSign UpBook a Demo Unlimited access to 7,000+ courses from top universities & companies. Get 76% Off (India Offer). Claim offerJoin the 77% of surveyed learners on Coursera who have reported career benefits including new jobs, promotions, and expanded skill sets.location_onHyderabad, Telangana, Indiawatch_later Posted: Nov 22, 2024On-siteFull-timeThis job is closedFind Similar Recent JobsShare JobSkills RequiredNice To Have skillsJob Description\n",
      "\n",
      "About The JobOur Team:Sanofi Business Operations (SBO) is an internal Sanofi resource organization setup to centralize processes and activities to support Specialty Care, Vaccines, General Medicines, CHC, CMO, and R&D, Data & Digital functions . SBO strives to be a strategic and functional partner for tactical deliveries to Medical, HEVA, and Commercial organizations  in Sanofi, Globally.Main responsibilities:The overall purpose and main responsibilities are listed below:To create specialized content with limited supervision; support end-to-end publication/medical education content development process including documentation and approval in PromoMats/iEnvision (previously-Datavision/MATRIX); develop and maintain therapeutic area expertise; work in close collaboration with peers/team to develop best practices; and collaborate effectively with stakeholdersPeople: (1) Maintain effective relationship with the end stakeholders (medical scientific community) within the allocated Global Business Unit and product – with an end objective to develop education and communication content as per requirement; (2) Interact effectively with health care professionals on publication content; and (3) Constantly assist other writers in developing knowledge and sharing expertise Performance: (1) Provide publication/medical education material (slide deck, abstract, poster, manuscript etc.) as per agreed timelines and quality and (2) Provide strategic support with individuals and institutions, which may serve as resources for publications purpose Process: (1) Develop complex publication/medical education material; (2) Support medical communication and develop subject matter expertise for the assigned therapeutic area; (3) Assist the assigned scientific communication team in conducting comprehensive publication-need analysis; (4) Implement relevant element of publication plan and associated activities for the year identified for the region; (5) Work with selected vendors within the region to deliver the required deliverables as per defined process; and (6) Design an overall plan of action based on end-user feedback and improve course content and delivery Stakeholder: (1) Work closely with scientific communication teams in regions/areas to identify publication need and assist in developing assigned deliverables and (2) Liaise with Product Managers, MSLs, medical department to prepare relevant and customized deliverables About YouExperience: ≥2 years of experience in content creation for the pharmaceutical/healthcare industry, or academia Soft skills: Stakeholder management; communication skills; and ability to work independently and within a team environment Technical skills: As applicable (including but not limited to therapeutic area/domain knowledge exposure; publication submission; and/or project management) Education: Advanced degree in life sciences/pharmacy/similar discipline or medical degree Languages: Excellent knowledge of English language (spoken and written) Pursue progress, discover extraordinaryBetter is out there. Better medications, better outcomes, better science. But progress doesn’t happen without people – people from different backgrounds, in different locations, doing different roles, all united by one thing: a desire to make miracles happen. So, let’s be those people.At Sanofi, we provide equal opportunities to all regardless of race, colour, ancestry, religion, sex, national origin, sexual orientation, age, citizenship, marital status, disability, or gender identity.Watch our ALL IN video and check out our Diversity Equity and Inclusion actions at sanofi.com!Pursue progress, discover extraordinaryBetter is out there. Better medications, better outcomes, better science. But progress doesn’t happen without people – people from different backgrounds, in different locations, doing different roles, all united by one thing: a desire to make miracles happen. So, let’s be those people.At Sanofi, we provide equal opportunities to all regardless of race, colour, ancestry, religion, sex, national origin, sexual orientation, age, citizenship, marital status, ability or gender identity.Watch our ALL IN video and check out our Diversity Equity and Inclusion actions at sanofi.com!\n",
      "        \n",
      " Learn without limits. Join Coursera for Free!Join Coursera for Free!Share JobAdditional InfogradeMin. Experience- person_pin_circleJob LocationOn-sitework_outlineJob TypeFull-timeperson_outlineJob Seniority LevelEntry levelscheduleJob Duration- languageLanguage(s)AllpaymentsEst. Budget/Pay RateTo be discussedhourglass_emptyEst. hrs- outlined_flagOptimal Job Start- factoryJob IndustryPharmaceutical Manufacturing, Chemical Manufacturing, and Biotechnology Reshome_repair_serviceJob FunctionBusiness Development, Science, and MarketingapartmentEmployerSanofilocation_onPreferred Applicant Countries India Job RefJ24F5AED2298EAI-powered Talent Hiring Platform in Life Sciences, Pharma & ITFor TalentFind JobsHow It WorksPricingTalent Sign UpFor AgencyFind ProjectsHow It WorksPricingAgency Sign UpFor EmployersHire TalentFind AgenciesHire & PayPost a JobHow It WorksPricingEmployer Sign UpNavigationHomeBook a DemoAbout UsBlogPrivacy PolicyTerms of UseContactFollow UsCopyright © 2024 Lifelancer. All Rights Reserved \n"
     ]
    }
   ],
   "source": [
    "from langchain.document_loaders import WebBaseLoader\n",
    "\n",
    "# Specify the URL\n",
    "loader = WebBaseLoader(\"https://lifelancer.com/jobs/view/a96e5cdf6d48e45bf352270822f6796a\")\n",
    "\n",
    "# Load the content\n",
    "documents = loader.load()\n",
    "\n",
    "# Output the text content\n",
    "for doc in documents:\n",
    "    print(doc.page_content)\n"
   ]
  },
  {
   "cell_type": "code",
   "execution_count": 4,
   "id": "c33c639f",
   "metadata": {},
   "outputs": [],
   "source": [
    "page_load = loader.load().pop().page_content"
   ]
  },
  {
   "cell_type": "code",
   "execution_count": 5,
   "id": "6a6d53c4",
   "metadata": {},
   "outputs": [
    {
     "data": {
      "text/plain": [
       "'Scientific Writer - On-site Job at Sanofi | Lifelancer  menuFind JobsHireexpand_moreHire TalentHire AgenciesHire & PayHow It Worksexpand_moreTalentAgencyEmployersPricingexpand_moreTalentAgencyEmployersMoreexpand_moreVision & MissionBlogSign InSign UpBook a DemohomeHomeperson_searchHireexpand_moreHire & Payaccount_balance_walletHow It Worksexpand_moreTalentAgencyEmployerspaymentPricingexpand_moreTalentAgencyEmployersaccount_balance_walletMoreexpand_moreVision & MissionforumBlogloginSign Inperson_add_altSign UpBook a Demo Unlimited access to 7,000+ courses from top universities & companies. Get 76% Off (India Offer). Claim offerJoin the 77% of surveyed learners on Coursera who have reported career benefits including new jobs, promotions, and expanded skill sets.location_onHyderabad, Telangana, Indiawatch_later Posted: Nov 22, 2024On-siteFull-timeThis job is closedFind Similar Recent JobsShare JobSkills RequiredNice To Have skillsJob Description\\n\\nAbout The JobOur Team:Sanofi Business Operations (SBO) is an internal Sanofi resource organization setup to\\u202fcentralize processes and activities to support Specialty Care, Vaccines, General Medicines, CHC, CMO, and\\u202fR&D, Data & Digital functions . SBO strives to be a strategic and functional partner for tactical deliveries to Medical, HEVA, and\\u202fCommercial organizations  in Sanofi, Globally.Main responsibilities:The overall purpose and main responsibilities are listed below:To create specialized content with limited supervision; support end-to-end publication/medical education content development process including documentation and approval in PromoMats/iEnvision (previously-Datavision/MATRIX); develop and maintain therapeutic area expertise; work in close collaboration with peers/team to develop best practices; and collaborate effectively with stakeholdersPeople: (1) Maintain effective relationship with the end stakeholders (medical scientific community) within the allocated Global Business Unit and product – with an end objective to develop education and communication content as per requirement; (2) Interact effectively with health care professionals on publication content; and (3) Constantly assist other writers in developing knowledge and sharing expertise Performance: (1) Provide publication/medical education material (slide deck, abstract, poster, manuscript etc.) as per agreed timelines and quality and (2) Provide strategic support with individuals and institutions, which may serve as resources for publications purpose Process: (1) Develop complex publication/medical education material; (2) Support medical communication and develop subject matter expertise for the assigned therapeutic area; (3) Assist the assigned scientific communication team in conducting comprehensive publication-need analysis; (4) Implement relevant element of publication plan and associated activities for the year identified for the region; (5) Work with selected vendors within the region to deliver the required deliverables as per defined process; and (6) Design an overall plan of action based on end-user feedback and improve course content and delivery Stakeholder: (1) Work closely with scientific communication teams in regions/areas to identify publication need and assist in developing assigned deliverables and (2) Liaise with Product Managers, MSLs, medical department to prepare relevant and customized deliverables About YouExperience: ≥2 years of experience in content creation for the pharmaceutical/healthcare industry, or academia Soft skills: Stakeholder management; communication skills; and ability to work independently and within a team environment Technical skills: As applicable (including but not limited to therapeutic area/domain knowledge exposure; publication submission; and/or project management) Education: Advanced degree in life sciences/pharmacy/similar discipline or medical degree Languages: Excellent knowledge of English language (spoken and written) Pursue progress, discover extraordinaryBetter is out there. Better medications, better outcomes, better science. But progress doesn’t happen without people – people from different backgrounds, in different locations, doing different roles, all united by one thing: a desire to make miracles happen. So, let’s be those people.At Sanofi, we provide equal opportunities to all regardless of race, colour, ancestry, religion, sex, national origin, sexual orientation, age, citizenship, marital status, disability, or gender identity.Watch our ALL IN video and check out our Diversity Equity and Inclusion actions at sanofi.com!Pursue progress, discover extraordinaryBetter is out there. Better medications, better outcomes, better science. But progress doesn’t happen without people – people from different backgrounds, in different locations, doing different roles, all united by one thing: a desire to make miracles happen. So, let’s be those people.At Sanofi, we provide equal opportunities to all regardless of race, colour, ancestry, religion, sex, national origin, sexual orientation, age, citizenship, marital status, ability or gender identity.Watch our ALL IN video and check out our Diversity Equity and Inclusion actions at sanofi.com!\\n        \\n Learn without limits. Join Coursera for Free!Join Coursera for Free!Share JobAdditional InfogradeMin. Experience- person_pin_circleJob LocationOn-sitework_outlineJob TypeFull-timeperson_outlineJob Seniority LevelEntry levelscheduleJob Duration- languageLanguage(s)AllpaymentsEst. Budget/Pay RateTo be discussedhourglass_emptyEst. hrs- outlined_flagOptimal Job Start- factoryJob IndustryPharmaceutical Manufacturing, Chemical Manufacturing, and Biotechnology Reshome_repair_serviceJob FunctionBusiness Development, Science, and MarketingapartmentEmployerSanofilocation_onPreferred Applicant Countries India Job RefJ24F5AED2298EAI-powered Talent Hiring Platform in Life Sciences, Pharma & ITFor TalentFind JobsHow It WorksPricingTalent Sign UpFor AgencyFind ProjectsHow It WorksPricingAgency Sign UpFor EmployersHire TalentFind AgenciesHire & PayPost a JobHow It WorksPricingEmployer Sign UpNavigationHomeBook a DemoAbout UsBlogPrivacy PolicyTerms of UseContactFollow UsCopyright © 2024 Lifelancer. All Rights Reserved '"
      ]
     },
     "execution_count": 5,
     "metadata": {},
     "output_type": "execute_result"
    }
   ],
   "source": [
    "page_load"
   ]
  },
  {
   "cell_type": "code",
   "execution_count": 27,
   "id": "6bf510d3",
   "metadata": {},
   "outputs": [],
   "source": [
    "from langchain_groq import ChatGroq\n",
    "\n",
    "llm = ChatGroq(\n",
    "    model=\"llama-3.1-70b-versatile\",\n",
    "    temperature=0,\n",
    "    api_key=\"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\"\n",
    ")\n",
    "\n",
    "response = llm.invoke(\"pan indian hero of tollywood\")\n",
    "print(response.content)"
   ]
  },
  {
   "cell_type": "code",
   "execution_count": 33,
   "id": "2b85a9f7",
   "metadata": {},
   "outputs": [
    {
     "name": "stdout",
     "output_type": "stream",
     "text": [
      "Scientific Writer - On-site Job at Sanofi | Lifelancer  menuFind JobsHireexpand_moreHire TalentHire AgenciesHire & PayHow It Worksexpand_moreTalentAgencyEmployersPricingexpand_moreTalentAgencyEmployersMoreexpand_moreVision & MissionBlogSign InSign UpBook a DemohomeHomeperson_searchHireexpand_moreHire & Payaccount_balance_walletHow It Worksexpand_moreTalentAgencyEmployerspaymentPricingexpand_moreTalentAgencyEmployersaccount_balance_walletMoreexpand_moreVision & MissionforumBlogloginSign Inperson_add_altSign UpBook a Demo Unlimited access to 7,000+ courses from top universities & companies. Get 76% Off (India Offer). Claim offerJoin the 77% of surveyed learners on Coursera who have reported career benefits including new jobs, promotions, and expanded skill sets.location_onHyderabad, Telangana, Indiawatch_later Posted: Nov 22, 2024On-siteFull-time Applybookmark_borderSaveShare JobSkills RequiredNice To Have skillsJob Description\n",
      "\n",
      "About The JobOur Team:Sanofi Business Operations (SBO) is an internal Sanofi resource organization setup to centralize processes and activities to support Specialty Care, Vaccines, General Medicines, CHC, CMO, and R&D, Data & Digital functions . SBO strives to be a strategic and functional partner for tactical deliveries to Medical, HEVA, and Commercial organizations  in Sanofi, Globally.Main responsibilities:The overall purpose and main responsibilities are listed below:To create specialized content with limited supervision; support end-to-end publication/medical education content development process including documentation and approval in PromoMats/iEnvision (previously-Datavision/MATRIX); develop and maintain therapeutic area expertise; work in close collaboration with peers/team to develop best practices; and collaborate effectively with stakeholdersPeople: (1) Maintain effective relationship with the end stakeholders (medical scientific community) within the allocated Global Business Unit and product – with an end objective to develop education and communication content as per requirement; (2) Interact effectively with health care professionals on publication content; and (3) Constantly assist other writers in developing knowledge and sharing expertise Performance: (1) Provide publication/medical education material (slide deck, abstract, poster, manuscript etc.) as per agreed timelines and quality and (2) Provide strategic support with individuals and institutions, which may serve as resources for publications purpose Process: (1) Develop complex publication/medical education material; (2) Support medical communication and develop subject matter expertise for the assigned therapeutic area; (3) Assist the assigned scientific communication team in conducting comprehensive publication-need analysis; (4) Implement relevant element of publication plan and associated activities for the year identified for the region; (5) Work with selected vendors within the region to deliver the required deliverables as per defined process; and (6) Design an overall plan of action based on end-user feedback and improve course content and delivery Stakeholder: (1) Work closely with scientific communication teams in regions/areas to identify publication need and assist in developing assigned deliverables and (2) Liaise with Product Managers, MSLs, medical department to prepare relevant and customized deliverables About YouExperience: ≥2 years of experience in content creation for the pharmaceutical/healthcare industry, or academia Soft skills: Stakeholder management; communication skills; and ability to work independently and within a team environment Technical skills: As applicable (including but not limited to therapeutic area/domain knowledge exposure; publication submission; and/or project management) Education: Advanced degree in life sciences/pharmacy/similar discipline or medical degree Languages: Excellent knowledge of English language (spoken and written) Pursue progress, discover extraordinaryBetter is out there. Better medications, better outcomes, better science. But progress doesn’t happen without people – people from different backgrounds, in different locations, doing different roles, all united by one thing: a desire to make miracles happen. So, let’s be those people.At Sanofi, we provide equal opportunities to all regardless of race, colour, ancestry, religion, sex, national origin, sexual orientation, age, citizenship, marital status, disability, or gender identity.Watch our ALL IN video and check out our Diversity Equity and Inclusion actions at sanofi.com!Pursue progress, discover extraordinaryBetter is out there. Better medications, better outcomes, better science. But progress doesn’t happen without people – people from different backgrounds, in different locations, doing different roles, all united by one thing: a desire to make miracles happen. So, let’s be those people.At Sanofi, we provide equal opportunities to all regardless of race, colour, ancestry, religion, sex, national origin, sexual orientation, age, citizenship, marital status, ability or gender identity.Watch our ALL IN video and check out our Diversity Equity and Inclusion actions at sanofi.com!\n",
      "        \n",
      " Learn without limits. Join Coursera for Free!Join Coursera for Free!Share JobAdditional InfogradeMin. Experience- person_pin_circleJob LocationOn-sitework_outlineJob TypeFull-timeperson_outlineJob Seniority LevelEntry levelscheduleJob Duration- languageLanguage(s)AllpaymentsEst. Budget/Pay RateTo be discussedhourglass_emptyEst. hrs- outlined_flagOptimal Job Start- factoryJob IndustryPharmaceutical Manufacturing, Chemical Manufacturing, and Biotechnology Reshome_repair_serviceJob FunctionBusiness Development, Science, and MarketingapartmentEmployerSanofilocation_onApplicant Countries India, Job RefJ24F5AED2298EAI-powered Talent Hiring Platform in Life Sciences, Pharma & ITFor TalentFind JobsHow It WorksPricingTalent Sign UpFor AgencyFind ProjectsHow It WorksPricingAgency Sign UpFor EmployersHire TalentFind AgenciesHire & PayPost a JobHow It WorksPricingEmployer Sign UpNavigationHomeBook a DemoAbout UsBlogPrivacy PolicyTerms of UseContactFollow UsCopyright © 2024 Lifelancer. All Rights Reserved \n"
     ]
    }
   ],
   "source": [
    "from langchain_community.document_loaders import WebBaseLoader\n",
    "\n",
    "loader = WebBaseLoader(\"https://lifelancer.com/jobs/view/a96e5cdf6d48e45bf352270822f6796a\")\n",
    "page_data = loader.load().pop().page_content\n",
    "print(page_data)"
   ]
  },
  {
   "cell_type": "code",
   "execution_count": 34,
   "id": "4b25a29e",
   "metadata": {},
   "outputs": [
    {
     "name": "stdout",
     "output_type": "stream",
     "text": [
      "```\n",
      "{\n",
      "  \"role\": \"Scientific Writer\",\n",
      "  \"experience\": \"≥2 years of experience in content creation for the pharmaceutical/healthcare industry, or academia\",\n",
      "  \"skills\": [\n",
      "    \"Stakeholder management\",\n",
      "    \"Communication skills\",\n",
      "    \"Ability to work independently and within a team environment\",\n",
      "    \"Therapeutic area/domain knowledge exposure\",\n",
      "    \"Publication submission\",\n",
      "    \"Project management\"\n",
      "  ],\n",
      "  \"description\": \"The overall purpose and main responsibilities are listed below: To create specialized content with limited supervision; support end-to-end publication/medical education content development process including documentation and approval in PromoMats/iEnvision (previously-Datavision/MATRIX); develop and maintain therapeutic area expertise; work in close collaboration with peers/team to develop best practices; and collaborate effectively with stakeholders\"\n",
      "}\n",
      "```\n"
     ]
    }
   ],
   "source": [
    "from langchain_core.prompts import PromptTemplate\n",
    "\n",
    "prompt_extract = PromptTemplate.from_template(\n",
    "        \"\"\"\n",
    "        ### SCRAPED TEXT FROM WEBSITE:\n",
    "        {page_data}\n",
    "        ### INSTRUCTION:\n",
    "        The scraped text is from the career's page of a website.\n",
    "        Your job is to extract the job postings and return them in JSON format containing the \n",
    "        following keys: `role`, `experience`, `skills` and `description`.\n",
    "        Only return the valid JSON.\n",
    "        ### VALID JSON (NO PREAMBLE):    \n",
    "        \"\"\"\n",
    ")\n",
    "\n",
    "chain_extract = prompt_extract | llm \n",
    "res = chain_extract.invoke(input={'page_data':page_data})\n",
    "print(res.content)"
   ]
  },
  {
   "cell_type": "code",
   "execution_count": 35,
   "id": "60357b4b",
   "metadata": {},
   "outputs": [
    {
     "data": {
      "text/plain": [
       "{'role': 'Scientific Writer',\n",
       " 'experience': '≥2 years of experience in content creation for the pharmaceutical/healthcare industry, or academia',\n",
       " 'skills': ['Stakeholder management',\n",
       "  'Communication skills',\n",
       "  'Ability to work independently and within a team environment',\n",
       "  'Therapeutic area/domain knowledge exposure',\n",
       "  'Publication submission',\n",
       "  'Project management'],\n",
       " 'description': 'The overall purpose and main responsibilities are listed below: To create specialized content with limited supervision; support end-to-end publication/medical education content development process including documentation and approval in PromoMats/iEnvision (previously-Datavision/MATRIX); develop and maintain therapeutic area expertise; work in close collaboration with peers/team to develop best practices; and collaborate effectively with stakeholders'}"
      ]
     },
     "execution_count": 35,
     "metadata": {},
     "output_type": "execute_result"
    }
   ],
   "source": [
    "from langchain_core.output_parsers import JsonOutputParser\n",
    "\n",
    "json_parser = JsonOutputParser()\n",
    "json_res = json_parser.parse(res.content)\n",
    "json_res"
   ]
  },
  {
   "cell_type": "code",
   "execution_count": 37,
   "id": "79dac299",
   "metadata": {},
   "outputs": [],
   "source": [
    "import pandas as pd\n",
    "\n",
    "df = pd.read_csv(r\"C:\\Users\\Abinay Rachakonda\\Desktop\\Llama\\my_portfolio.csv\")"
   ]
  },
  {
   "cell_type": "code",
   "execution_count": 38,
   "id": "c9a86921",
   "metadata": {},
   "outputs": [],
   "source": [
    "import uuid\n",
    "import chromadb\n",
    "\n",
    "client = chromadb.PersistentClient('vectorstore')\n",
    "collection = client.get_or_create_collection(name=\"portfolio\")\n",
    "\n",
    "if not collection.count():\n",
    "    for _, row in df.iterrows():\n",
    "        collection.add(documents=row[\"Techstack\"],\n",
    "                       metadatas={\"links\": row[\"Links\"]},\n",
    "                       ids=[str(uuid.uuid4())])"
   ]
  },
  {
   "cell_type": "code",
   "execution_count": 40,
   "id": "5018f0d6",
   "metadata": {},
   "outputs": [
    {
     "data": {
      "text/plain": [
       "['Stakeholder management',\n",
       " 'Communication skills',\n",
       " 'Ability to work independently and within a team environment',\n",
       " 'Therapeutic area/domain knowledge exposure',\n",
       " 'Publication submission',\n",
       " 'Project management']"
      ]
     },
     "execution_count": 40,
     "metadata": {},
     "output_type": "execute_result"
    }
   ],
   "source": [
    "job = json_res\n",
    "job['skills']"
   ]
  },
  {
   "cell_type": "code",
   "execution_count": 41,
   "id": "a154b17b",
   "metadata": {},
   "outputs": [
    {
     "data": {
      "text/plain": [
       "[[{'links': 'https://example.com/devops-portfolio'},\n",
       "  {'links': 'https://example.com/react-portfolio'}],\n",
       " [{'links': 'https://example.com/ml-python-portfolio'},\n",
       "  {'links': 'https://example.com/android-portfolio'}],\n",
       " [{'links': 'https://example.com/devops-portfolio'},\n",
       "  {'links': 'https://example.com/android-portfolio'}],\n",
       " [{'links': 'https://example.com/magento-portfolio'},\n",
       "  {'links': 'https://example.com/ios-portfolio'}],\n",
       " [{'links': 'https://example.com/devops-portfolio'},\n",
       "  {'links': 'https://example.com/wordpress-portfolio'}],\n",
       " [{'links': 'https://example.com/devops-portfolio'},\n",
       "  {'links': 'https://example.com/wordpress-portfolio'}]]"
      ]
     },
     "execution_count": 41,
     "metadata": {},
     "output_type": "execute_result"
    }
   ],
   "source": [
    "links = collection.query(query_texts=job['skills'], n_results=2).get('metadatas', [])\n",
    "links"
   ]
  },
  {
   "cell_type": "code",
   "execution_count": 42,
   "id": "f6b5464f",
   "metadata": {},
   "outputs": [
    {
     "name": "stdout",
     "output_type": "stream",
     "text": [
      "Subject: Expert Scientific Writing Support through Automation and AI\n",
      "\n",
      "Dear Hiring Manager,\n",
      "\n",
      "I came across the Scientific Writer job description at your esteemed organization and was impressed by the role's focus on creating specialized content for the pharmaceutical/healthcare industry. As a Business Development Executive at AtliQ, I'd like to introduce our company's capabilities in supporting your content creation needs through automation and AI.\n",
      "\n",
      "At AtliQ, we have extensive experience in developing tailored solutions that foster scalability, process optimization, cost reduction, and heightened overall efficiency. Our expertise in AI and software consulting can help streamline your publication submission, project management, and stakeholder management processes.\n",
      "\n",
      "Our portfolio showcases our capabilities in developing customized solutions for various industries, including:\n",
      "\n",
      "* DevOps solutions for efficient project management and automation (https://example.com/devops-portfolio)\n",
      "* Machine Learning and Python solutions for data analysis and therapeutic area expertise (https://example.com/ml-python-portfolio)\n",
      "\n",
      "We believe our expertise can help your team create high-quality content while reducing the workload and increasing productivity. Our solutions can assist in:\n",
      "\n",
      "* Automating documentation and approval processes in PromoMats/iEnvision\n",
      "* Developing and maintaining therapeutic area expertise through data analysis and visualization\n",
      "* Enhancing collaboration and stakeholder management through customized software solutions\n",
      "\n",
      "I'd be delighted to schedule a call to discuss how AtliQ can support your Scientific Writing team in achieving their goals. Please let me know if you're interested in learning more about our capabilities.\n",
      "\n",
      "Best regards,\n",
      "\n",
      "Mohan\n",
      "Business Development Executive\n",
      "AtliQ\n"
     ]
    }
   ],
   "source": [
    "prompt_email = PromptTemplate.from_template(\n",
    "        \"\"\"\n",
    "        ### JOB DESCRIPTION:\n",
    "        {job_description}\n",
    "        \n",
    "        ### INSTRUCTION:\n",
    "        You are ROBOT, a business development executive at AtliQ. AtliQ is an AI & Software Consulting company dedicated to facilitating\n",
    "        the seamless integration of business processes through automated tools. \n",
    "        Over our experience, we have empowered numerous enterprises with tailored solutions, fostering scalability, \n",
    "        process optimization, cost reduction, and heightened overall efficiency. \n",
    "        Your job is to write a cold email to the client regarding the job mentioned above describing the capability of AtliQ \n",
    "        in fulfilling their needs.\n",
    "        Also add the most relevant ones from the following links to showcase Atliq's portfolio: {link_list}\n",
    "        Remember you are Mohan, BDE at AtliQ. \n",
    "        Do not provide a preamble.\n",
    "        ### EMAIL (NO PREAMBLE):\n",
    "        \n",
    "        \"\"\"\n",
    "        )\n",
    "\n",
    "chain_email = prompt_email | llm\n",
    "res = chain_email.invoke({\"job_description\": str(job), \"link_list\": links})\n",
    "print(res.content)"
   ]
  },
  {
   "cell_type": "code",
   "execution_count": null,
   "id": "c4e89681",
   "metadata": {},
   "outputs": [],
   "source": []
  }
 ],
 "metadata": {
  "kernelspec": {
   "display_name": "Python 3 (ipykernel)",
   "language": "python",
   "name": "python3"
  },
  "language_info": {
   "codemirror_mode": {
    "name": "ipython",
    "version": 3
   },
   "file_extension": ".py",
   "mimetype": "text/x-python",
   "name": "python",
   "nbconvert_exporter": "python",
   "pygments_lexer": "ipython3",
   "version": "3.10.9"
  }
 },
 "nbformat": 4,
 "nbformat_minor": 5
}
